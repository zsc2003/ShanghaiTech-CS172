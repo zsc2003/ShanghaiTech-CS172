{
 "cells": [
  {
   "attachments": {},
   "cell_type": "markdown",
   "metadata": {},
   "source": [
    "# load data "
   ]
  },
  {
   "cell_type": "code",
   "execution_count": 1,
   "metadata": {},
   "outputs": [],
   "source": [
    "data_path = '/home/cellverse/Desktop/cv/2011_10_03_drive_0034_sync/'"
   ]
  },
  {
   "attachments": {},
   "cell_type": "markdown",
   "metadata": {},
   "source": [
    "# training from scratch"
   ]
  },
  {
   "cell_type": "code",
   "execution_count": 2,
   "metadata": {
    "vscode": {
     "languageId": "shellscript"
    }
   },
   "outputs": [
    {
     "name": "stdout",
     "output_type": "stream",
     "text": [
      "/home/cellverse/tools/miniconda3/envs/cs172/lib/python3.10/site-packages/torchvision/models/_utils.py:135: UserWarning: Using 'weights' as positional parameter(s) is deprecated since 0.13 and may be removed in the future. Please use keyword parameter(s) instead.\n",
      "  warnings.warn(\n",
      "/home/cellverse/tools/miniconda3/envs/cs172/lib/python3.10/site-packages/torchvision/models/_utils.py:223: UserWarning: Arguments other than a weight enum or `None` for 'weights' are deprecated since 0.13 and may be removed in the future. The current behavior is equivalent to passing `weights=ResNet18_Weights.IMAGENET1K_V1`. You can also use `weights=ResNet18_Weights.DEFAULT` to get the most up-to-date weights.\n",
      "  warnings.warn(msg)\n",
      "Training model named:\n",
      "   mono\n",
      "Models and tensorboard events files are saved to:\n",
      "   /home/cellverse/Desktop/cv/log_dir\n",
      "Training is using:\n",
      "   cuda\n",
      "=======================================================\n",
      "size of training data = 8413\n",
      "=======================================================\n",
      "Using split:\n",
      "   my_split\n",
      "There are 8413 training items and 909 validation items\n",
      "\n",
      "  0%|                                                    | 0/50 [00:00<?, ?it/s]/home/cellverse/tools/miniconda3/envs/cs172/lib/python3.10/site-packages/torch/optim/lr_scheduler.py:136: UserWarning: Detected call of `lr_scheduler.step()` before `optimizer.step()`. In PyTorch 1.1.0 and later, you should call them in the opposite order: `optimizer.step()` before `lr_scheduler.step()`.  Failure to do this will result in PyTorch skipping the first value of the learning rate schedule. See more details at https://pytorch.org/docs/stable/optim.html#how-to-adjust-learning-rate\n",
      "  warnings.warn(\"Detected call of `lr_scheduler.step()` before `optimizer.step()`. \"\n",
      "/home/cellverse/tools/miniconda3/envs/cs172/lib/python3.10/site-packages/torch/nn/functional.py:4296: UserWarning: Default grid_sample and affine_grid behavior has changed to align_corners=False since 1.3.0. Please specify align_corners=True if the old behavior is desired. See the documentation of grid_sample for details.\n",
      "  warnings.warn(\n",
      "epoch   0 | batch      0 | examples/s:   3.7 | loss: 0.19064 | time elapsed: 00h00m13s | time left: 00h00m00s\n",
      "epoch   0 | batch    250 | examples/s:  48.8 | loss: 0.13571 | time elapsed: 00h02m20s | time left: 05h25m40s\n",
      "epoch   0 | batch    500 | examples/s:  91.7 | loss: 0.13886 | time elapsed: 00h04m29s | time left: 05h10m13s\n",
      "  2%|▊                                        | 1/50 [06:08<5:01:04, 368.67s/it]epoch   1 | batch      0 | examples/s:  66.8 | loss: 0.13053 | time elapsed: 00h06m16s | time left: 05h07m12s\n",
      "epoch   1 | batch    250 | examples/s:  84.2 | loss: 0.12161 | time elapsed: 00h08m24s | time left: 05h01m29s\n",
      "epoch   1 | batch    500 | examples/s: 103.4 | loss: 0.12232 | time elapsed: 00h10m35s | time left: 04h58m43s\n",
      "  4%|█▋                                       | 2/50 [12:14<4:53:22, 366.73s/it]epoch   2 | batch      0 | examples/s: 127.0 | loss: 0.11438 | time elapsed: 00h12m20s | time left: 04h56m08s\n",
      "epoch   2 | batch    250 | examples/s:  53.0 | loss: 0.10521 | time elapsed: 00h14m29s | time left: 04h53m05s\n",
      "epoch   2 | batch    500 | examples/s:  81.7 | loss: 0.12041 | time elapsed: 00h16m37s | time left: 04h49m38s\n",
      "epoch   2 | batch    598 | examples/s:  42.6 | loss: 0.10605 | time elapsed: 00h17m26s | time left: 04h48m18s\n",
      " 10%|████                                     | 5/50 [29:57<4:27:13, 356.30s/it]epoch   5 | batch    495 | examples/s:  99.0 | loss: 0.10287 | time elapsed: 00h34m11s | time left: 04h25m26s\n",
      " 16%|██████▌                                  | 8/50 [47:32<4:07:09, 353.09s/it]epoch   8 | batch    392 | examples/s:  93.7 | loss: 0.08512 | time elapsed: 00h50m55s | time left: 04h06m32s\n",
      " 22%|████████▎                             | 11/50 [1:05:12<3:49:36, 353.24s/it]epoch  11 | batch    289 | examples/s:  73.4 | loss: 0.09446 | time elapsed: 01h07m42s | time left: 03h48m57s\n",
      " 28%|██████████▋                           | 14/50 [1:22:45<3:30:57, 351.61s/it]epoch  14 | batch    186 | examples/s:  66.5 | loss: 0.07860 | time elapsed: 01h24m25s | time left: 03h31m28s\n",
      " 34%|████████████▉                         | 17/50 [1:40:20<3:13:21, 351.56s/it]epoch  17 | batch     83 | examples/s:  53.1 | loss: 0.08489 | time elapsed: 01h41m05s | time left: 03h14m10s\n",
      " 38%|██████████████▍                       | 19/50 [1:52:05<3:01:45, 351.80s/it]epoch  19 | batch    681 | examples/s:  66.5 | loss: 0.07723 | time elapsed: 01h57m50s | time left: 02h57m11s\n",
      " 44%|████████████████▋                     | 22/50 [2:09:40<2:44:07, 351.70s/it]epoch  22 | batch    578 | examples/s:  71.2 | loss: 0.07841 | time elapsed: 02h14m36s | time left: 02h40m16s\n",
      " 50%|███████████████████                   | 25/50 [2:27:17<2:26:40, 352.03s/it]epoch  25 | batch    475 | examples/s:  51.5 | loss: 0.08719 | time elapsed: 02h31m22s | time left: 02h23m23s\n",
      " 56%|█████████████████████▎                | 28/50 [2:44:56<2:09:18, 352.64s/it]epoch  28 | batch    372 | examples/s:  93.2 | loss: 0.08509 | time elapsed: 02h48m10s | time left: 02h06m33s\n",
      " 62%|███████████████████████▌              | 31/50 [3:02:33<1:51:30, 352.12s/it]epoch  31 | batch    269 | examples/s:  63.2 | loss: 0.07659 | time elapsed: 03h04m52s | time left: 01h49m39s\n",
      " 68%|█████████████████████████▊            | 34/50 [3:20:09<1:33:51, 352.00s/it]epoch  34 | batch    166 | examples/s:  51.7 | loss: 0.06944 | time elapsed: 03h21m38s | time left: 01h32m50s\n",
      " 74%|████████████████████████████          | 37/50 [3:37:45<1:16:16, 352.06s/it]epoch  37 | batch     63 | examples/s:  52.8 | loss: 0.07633 | time elapsed: 03h38m24s | time left: 01h16m01s\n",
      " 78%|█████████████████████████████▋        | 39/50 [3:49:30<1:04:34, 352.22s/it]epoch  39 | batch    661 | examples/s:  40.2 | loss: 0.08769 | time elapsed: 03h55m03s | time left: 00h59m11s\n",
      " 84%|█████████████████████████████████▌      | 42/50 [4:07:07<47:00, 352.51s/it]epoch  42 | batch    558 | examples/s:  40.0 | loss: 0.07720 | time elapsed: 04h11m51s | time left: 00h42m23s\n",
      " 90%|████████████████████████████████████    | 45/50 [4:24:43<29:21, 352.24s/it]epoch  45 | batch    455 | examples/s:  63.6 | loss: 0.07578 | time elapsed: 04h28m35s | time left: 00h25m36s\n",
      " 96%|██████████████████████████████████████▍ | 48/50 [4:42:18<11:43, 351.95s/it]epoch  48 | batch    352 | examples/s:  59.7 | loss: 0.07409 | time elapsed: 04h45m22s | time left: 00h08m48s\n",
      "100%|████████████████████████████████████████| 50/50 [4:54:04<00:00, 352.88s/it]\n"
     ]
    }
   ],
   "source": [
    "!python train.py --num_epochs 50 --split my_split --model_name mono --data_path /home/cellverse/Desktop/cv/2011_10_03_drive_0034_sync/ --png --log_dir /home/cellverse/Desktop/cv/log_dir"
   ]
  },
  {
   "attachments": {},
   "cell_type": "markdown",
   "metadata": {},
   "source": [
    "# finetune"
   ]
  },
  {
   "cell_type": "code",
   "execution_count": null,
   "metadata": {
    "vscode": {
     "languageId": "shellscript"
    }
   },
   "outputs": [],
   "source": [
    "python train.py --num_epochs 20000 --split my_split --model_name finetuned_mono --data_path /home/cellverse/Desktop/cv/2011_10_03_drive_0034_sync/ --png --log_dir /home/cellverse/Desktop/cv/log_dir --load_weights_folder /home/cellverse/Desktop/cv/log_dir/mono_1024x320"
   ]
  },
  {
   "attachments": {},
   "cell_type": "markdown",
   "metadata": {},
   "source": [
    "# predict from scratch"
   ]
  },
  {
   "cell_type": "code",
   "execution_count": null,
   "metadata": {
    "vscode": {
     "languageId": "shellscript"
    }
   },
   "outputs": [],
   "source": [
    "!python test_simple.py --image_path assets/final_image.png --model_name mono+stereo_640x192 --model_path /home/cellverse/Desktop/cv/log_dir/mono/models/weights_0"
   ]
  },
  {
   "cell_type": "markdown",
   "metadata": {},
   "source": [
    "# predict from finetuned"
   ]
  },
  {
   "cell_type": "code",
   "execution_count": 1,
   "metadata": {
    "vscode": {
     "languageId": "shellscript"
    }
   },
   "outputs": [
    {
     "name": "stdout",
     "output_type": "stream",
     "text": [
      "-> Loading model from  /home/cellverse/Desktop/cv/log_dir/mono/models/weights_0\n",
      "   Loading pretrained encoder\n",
      "/home/cellverse/tools/miniconda3/envs/cs172/lib/python3.10/site-packages/torchvision/models/_utils.py:135: UserWarning: Using 'weights' as positional parameter(s) is deprecated since 0.13 and may be removed in the future. Please use keyword parameter(s) instead.\n",
      "  warnings.warn(\n",
      "/home/cellverse/tools/miniconda3/envs/cs172/lib/python3.10/site-packages/torchvision/models/_utils.py:223: UserWarning: Arguments other than a weight enum or `None` for 'weights' are deprecated since 0.13 and may be removed in the future. The current behavior is equivalent to passing `weights=None`.\n",
      "  warnings.warn(msg)\n",
      "   Loading pretrained decoder\n",
      "-> Predicting on 1 test images\n",
      "   Processed 1 of 1 images - saved predictions to:\n",
      "   - assets/final_image_disp.jpeg\n",
      "   - assets/final_image_disp.npy\n",
      "-> Done!\n"
     ]
    }
   ],
   "source": [
    "!python test_simple.py --image_path assets/final_image.png --model_name mono+stereo_640x192 --model_path /home/cellverse/Desktop/cv/log_dir/"
   ]
  }
 ],
 "metadata": {
  "kernelspec": {
   "display_name": "cs172",
   "language": "python",
   "name": "python3"
  },
  "language_info": {
   "codemirror_mode": {
    "name": "ipython",
    "version": 3
   },
   "file_extension": ".py",
   "mimetype": "text/x-python",
   "name": "python",
   "nbconvert_exporter": "python",
   "pygments_lexer": "ipython3",
   "version": "3.10.13"
  },
  "orig_nbformat": 4
 },
 "nbformat": 4,
 "nbformat_minor": 2
}
