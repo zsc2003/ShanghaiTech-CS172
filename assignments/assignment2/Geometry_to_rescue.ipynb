{
 "cells": [
  {
   "cell_type": "markdown",
   "metadata": {},
   "source": [
    "# load data "
   ]
  },
  {
   "cell_type": "code",
   "execution_count": 1,
   "metadata": {},
   "outputs": [],
   "source": [
    "data_path = '/home/cellverse/Desktop/cv/2011_10_03_drive_0034_sync/'"
   ]
  },
  {
   "cell_type": "markdown",
   "metadata": {},
   "source": [
    "# training"
   ]
  },
  {
   "cell_type": "code",
   "execution_count": 11,
   "metadata": {},
   "outputs": [
    {
     "name": "stdout",
     "output_type": "stream",
     "text": [
      "use_pose_net =  False\n",
      "/home/cellverse/tools/miniconda3/envs/cs172/lib/python3.10/site-packages/torchvision/models/_utils.py:135: UserWarning: Using 'weights' as positional parameter(s) is deprecated since 0.13 and may be removed in the future. Please use keyword parameter(s) instead.\n",
      "  warnings.warn(\n",
      "/home/cellverse/tools/miniconda3/envs/cs172/lib/python3.10/site-packages/torchvision/models/_utils.py:223: UserWarning: Arguments other than a weight enum or `None` for 'weights' are deprecated since 0.13 and may be removed in the future. The current behavior is equivalent to passing `weights=None`.\n",
      "  warnings.warn(msg)\n",
      "Training model named:\n",
      "   Geometry_to_rescue\n",
      "Models and tensorboard events files are saved to:\n",
      "   /home/cellverse/Desktop/cv/log_dir\n",
      "Training is using:\n",
      "   cuda\n",
      "=======================================================\n",
      "size of training data = 8413\n",
      "=======================================================\n",
      "Using split:\n",
      "   my_split\n",
      "There are 8413 training items and 909 validation items\n",
      "\n",
      "  0%|                                                    | 0/50 [00:00<?, ?it/s]/home/cellverse/tools/miniconda3/envs/cs172/lib/python3.10/site-packages/torch/optim/lr_scheduler.py:136: UserWarning: Detected call of `lr_scheduler.step()` before `optimizer.step()`. In PyTorch 1.1.0 and later, you should call them in the opposite order: `optimizer.step()` before `lr_scheduler.step()`.  Failure to do this will result in PyTorch skipping the first value of the learning rate schedule. See more details at https://pytorch.org/docs/stable/optim.html#how-to-adjust-learning-rate\n",
      "  warnings.warn(\"Detected call of `lr_scheduler.step()` before `optimizer.step()`. \"\n",
      "/home/cellverse/tools/miniconda3/envs/cs172/lib/python3.10/site-packages/torch/nn/functional.py:4296: UserWarning: Default grid_sample and affine_grid behavior has changed to align_corners=False since 1.3.0. Please specify align_corners=True if the old behavior is desired. See the documentation of grid_sample for details.\n",
      "  warnings.warn(\n",
      "epoch   0 | batch      0 | examples/s:   5.6 | loss: 0.23717 | time elapsed: 00h00m15s | time left: 00h00m00s\n",
      "epoch   0 | batch    250 | examples/s: 165.8 | loss: 0.15296 | time elapsed: 00h02m04s | time left: 04h47m44s\n",
      "epoch   0 | batch    500 | examples/s: 136.9 | loss: 0.14810 | time elapsed: 00h04m00s | time left: 04h36m51s\n",
      "  2%|▊                                        | 1/50 [05:26<4:26:31, 326.35s/it]epoch   1 | batch      0 | examples/s: 110.5 | loss: 0.15868 | time elapsed: 00h05m31s | time left: 04h30m49s\n",
      "epoch   1 | batch    250 | examples/s:  79.1 | loss: 0.15806 | time elapsed: 00h07m24s | time left: 04h25m47s\n",
      "epoch   1 | batch    500 | examples/s: 180.0 | loss: 0.15587 | time elapsed: 00h09m18s | time left: 04h22m34s\n",
      "  4%|█▋                                       | 2/50 [10:48<4:18:54, 323.63s/it]epoch   2 | batch      0 | examples/s:  43.6 | loss: 0.14337 | time elapsed: 00h10m54s | time left: 04h21m57s\n",
      "epoch   2 | batch    250 | examples/s:  44.3 | loss: 0.14057 | time elapsed: 00h12m48s | time left: 04h18m51s\n",
      "epoch   2 | batch    500 | examples/s: 191.4 | loss: 0.13604 | time elapsed: 00h14m41s | time left: 04h15m55s\n",
      "epoch   2 | batch    598 | examples/s:  63.5 | loss: 0.13981 | time elapsed: 00h15m25s | time left: 04h14m56s\n",
      " 10%|████                                     | 5/50 [26:44<3:59:39, 319.54s/it]epoch   5 | batch    495 | examples/s: 165.6 | loss: 0.12256 | time elapsed: 00h30m36s | time left: 03h57m32s\n",
      " 16%|██████▌                                  | 8/50 [42:43<3:43:34, 319.40s/it]epoch   8 | batch    392 | examples/s: 150.6 | loss: 0.12485 | time elapsed: 00h45m45s | time left: 03h41m34s\n",
      " 22%|████████▊                               | 11/50 [58:39<3:27:12, 318.77s/it]epoch  11 | batch    289 | examples/s:  70.8 | loss: 0.10987 | time elapsed: 01h00m58s | time left: 03h26m10s\n",
      " 28%|██████████▋                           | 14/50 [1:14:38<3:11:27, 319.10s/it]epoch  14 | batch    186 | examples/s:  54.8 | loss: 0.11012 | time elapsed: 01h16m08s | time left: 03h10m42s\n",
      " 34%|████████████▉                         | 17/50 [1:30:29<2:54:43, 317.68s/it]epoch  17 | batch     83 | examples/s:  46.3 | loss: 0.10096 | time elapsed: 01h31m11s | time left: 02h55m10s\n",
      " 38%|██████████████▍                       | 19/50 [1:41:06<2:44:22, 318.16s/it]epoch  19 | batch    681 | examples/s: 206.3 | loss: 0.10822 | time elapsed: 01h46m18s | time left: 02h39m50s\n",
      " 44%|████████████████▋                     | 22/50 [1:56:59<2:28:11, 317.54s/it]epoch  22 | batch    578 | examples/s:  99.6 | loss: 0.10684 | time elapsed: 02h01m28s | time left: 02h24m38s\n",
      " 50%|███████████████████                   | 25/50 [2:12:51<2:11:53, 316.52s/it]epoch  25 | batch    475 | examples/s: 166.6 | loss: 0.11206 | time elapsed: 02h16m25s | time left: 02h09m13s\n",
      " 56%|█████████████████████▎                | 28/50 [2:28:24<1:54:48, 313.11s/it]epoch  28 | batch    372 | examples/s:  65.5 | loss: 0.11025 | time elapsed: 02h31m15s | time left: 01h53m48s\n",
      " 60%|██████████████████████▊               | 30/50 [2:38:58<1:45:09, 315.47s/it]"
     ]
    }
   ],
   "source": [
    "!python ./Geometry_to_rescue/train.py --use_stereo --weights_init scratch --num_epochs 50 --split my_split --model_name Geometry_to_rescue --data_path /home/cellverse/Desktop/cv/2011_10_03_drive_0034_sync/ --png --log_dir /home/cellverse/Desktop/cv/log_dir --frame_ids 0"
   ]
  },
  {
   "cell_type": "markdown",
   "metadata": {},
   "source": [
    "# predict"
   ]
  },
  {
   "cell_type": "code",
   "execution_count": null,
   "metadata": {
    "vscode": {
     "languageId": "shellscript"
    }
   },
   "outputs": [],
   "source": [
    "!python ./geometry_to_rescue/test_simple.py --image_path assets/final_image.png --model_name mono+stereo_640x192 --model_path /home/cellverse/Desktop/cv/log_dir/Geometry_to_rescue/models/weights_0ws"
   ]
  }
 ],
 "metadata": {
  "kernelspec": {
   "display_name": "cs172",
   "language": "python",
   "name": "python3"
  },
  "language_info": {
   "codemirror_mode": {
    "name": "ipython",
    "version": 3
   },
   "file_extension": ".py",
   "mimetype": "text/x-python",
   "name": "python",
   "nbconvert_exporter": "python",
   "pygments_lexer": "ipython3",
   "version": "3.10.13"
  },
  "orig_nbformat": 4
 },
 "nbformat": 4,
 "nbformat_minor": 2
}
