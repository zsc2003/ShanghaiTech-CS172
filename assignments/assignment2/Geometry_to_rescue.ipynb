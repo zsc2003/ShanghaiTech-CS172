{
 "cells": [
  {
   "cell_type": "markdown",
   "metadata": {},
   "source": [
    "# load data "
   ]
  },
  {
   "cell_type": "code",
   "execution_count": 1,
   "metadata": {},
   "outputs": [],
   "source": [
    "data_path = '/home/cellverse/Desktop/cv/2011_10_03_drive_0034_sync/'"
   ]
  },
  {
   "cell_type": "markdown",
   "metadata": {},
   "source": [
    "# training"
   ]
  },
  {
   "cell_type": "code",
   "execution_count": 5,
   "metadata": {},
   "outputs": [
    {
     "name": "stdout",
     "output_type": "stream",
     "text": [
      "usage: train.py [-h] [--data_path DATA_PATH] [--log_dir LOG_DIR]\n",
      "                [--model_name MODEL_NAME]\n",
      "                [--split {eigen_zhou,eigen_full,odom,benchmark,my_split}]\n",
      "                [--num_layers {18,34,50,101,152}]\n",
      "                [--dataset {kitti,kitti_odom,kitti_depth,kitti_test}] [--png]\n",
      "                [--height HEIGHT] [--width WIDTH]\n",
      "                [--disparity_smoothness DISPARITY_SMOOTHNESS]\n",
      "                [--scales SCALES [SCALES ...]] [--min_depth MIN_DEPTH]\n",
      "                [--max_depth MAX_DEPTH] [--use_stereo]\n",
      "                [--frame_ids FRAME_IDS [FRAME_IDS ...]]\n",
      "                [--batch_size BATCH_SIZE] [--learning_rate LEARNING_RATE]\n",
      "                [--num_epochs NUM_EPOCHS]\n",
      "                [--scheduler_step_size SCHEDULER_STEP_SIZE] [--v1_multiscale]\n",
      "                [--avg_reprojection] [--disable_automasking]\n",
      "                [--predictive_mask] [--no_ssim]\n",
      "                [--weights_init {pretrained,scratch}]\n",
      "                [--pose_model_input {pairs,all}]\n",
      "                [--pose_model_type {posecnn,separate_resnet,shared}]\n",
      "                [--no_cuda] [--num_workers NUM_WORKERS]\n",
      "                [--load_weights_folder LOAD_WEIGHTS_FOLDER]\n",
      "                [--models_to_load MODELS_TO_LOAD [MODELS_TO_LOAD ...]]\n",
      "                [--log_frequency LOG_FREQUENCY]\n",
      "                [--save_frequency SAVE_FREQUENCY] [--eval_stereo]\n",
      "                [--eval_mono] [--disable_median_scaling]\n",
      "                [--pred_depth_scale_factor PRED_DEPTH_SCALE_FACTOR]\n",
      "                [--ext_disp_to_eval EXT_DISP_TO_EVAL]\n",
      "                [--eval_split {eigen,eigen_benchmark,benchmark,odom_9,odom_10}]\n",
      "                [--save_pred_disps] [--no_eval] [--eval_eigen_to_benchmark]\n",
      "                [--eval_out_dir EVAL_OUT_DIR] [--post_process]\n",
      "train.py: error: argument --split: invalid choice: 'my_split_stereo' (choose from 'eigen_zhou', 'eigen_full', 'odom', 'benchmark', 'my_split')\n"
     ]
    }
   ],
   "source": [
    "!python ./Geometry_to_rescue/train.py pose_model_type posecnn --use_stereo --weights_init scratch --num_epochs 50 --split my_split_stereo --model_name Geometry_to_rescue --data_path /home/cellverse/Desktop/cv/2011_10_03_drive_0034_sync/ --png --log_dir /home/cellverse/Desktop/cv/log_dir"
   ]
  },
  {
   "cell_type": "markdown",
   "metadata": {},
   "source": [
    "# predict"
   ]
  },
  {
   "cell_type": "code",
   "execution_count": null,
   "metadata": {},
   "outputs": [],
   "source": [
    "!python ./geometry_to_rescue/test_simple.py --image_path assets/final_image.png --model_name mono+stereo_640x192 --model_path /home/cellverse/Desktop/cv/log_dir/Geometry_to_rescue/models/weights_0"
   ]
  }
 ],
 "metadata": {
  "kernelspec": {
   "display_name": "cs172",
   "language": "python",
   "name": "python3"
  },
  "language_info": {
   "codemirror_mode": {
    "name": "ipython",
    "version": 3
   },
   "file_extension": ".py",
   "mimetype": "text/x-python",
   "name": "python",
   "nbconvert_exporter": "python",
   "pygments_lexer": "ipython3",
   "version": "3.10.13"
  },
  "orig_nbformat": 4
 },
 "nbformat": 4,
 "nbformat_minor": 2
}
