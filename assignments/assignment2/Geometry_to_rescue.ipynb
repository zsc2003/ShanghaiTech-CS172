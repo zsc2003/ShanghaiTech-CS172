{
 "cells": [
  {
   "cell_type": "markdown",
   "metadata": {},
   "source": [
    "# load data "
   ]
  },
  {
   "cell_type": "code",
   "execution_count": 1,
   "metadata": {},
   "outputs": [],
   "source": [
    "data_path = '/home/cellverse/Desktop/cv/2011_10_03_drive_0034_sync/'"
   ]
  },
  {
   "cell_type": "markdown",
   "metadata": {},
   "source": [
    "# training"
   ]
  },
  {
   "cell_type": "code",
   "execution_count": 9,
   "metadata": {},
   "outputs": [
    {
     "name": "stdout",
     "output_type": "stream",
     "text": [
      "/home/cellverse/tools/miniconda3/envs/cs172/lib/python3.10/site-packages/torchvision/models/_utils.py:135: UserWarning: Using 'weights' as positional parameter(s) is deprecated since 0.13 and may be removed in the future. Please use keyword parameter(s) instead.\n",
      "  warnings.warn(\n",
      "/home/cellverse/tools/miniconda3/envs/cs172/lib/python3.10/site-packages/torchvision/models/_utils.py:223: UserWarning: Arguments other than a weight enum or `None` for 'weights' are deprecated since 0.13 and may be removed in the future. The current behavior is equivalent to passing `weights=None`.\n",
      "  warnings.warn(msg)\n",
      "Training model named:\n",
      "   Geometry_to_rescue\n",
      "Models and tensorboard events files are saved to:\n",
      "   /home/cellverse/Desktop/cv/log_dir\n",
      "Training is using:\n",
      "   cuda\n",
      "Traceback (most recent call last):\n",
      "  File \"/home/cellverse/Desktop/cv/ShanghaiTech-CS172/assignments/assignment2/./Geometry_to_rescue/train.py\", line 17, in <module>\n",
      "    trainer = Trainer(opts)\n",
      "  File \"/home/cellverse/Desktop/cv/ShanghaiTech-CS172/assignments/assignment2/Geometry_to_rescue/trainer.py\", line 127, in __init__\n",
      "    train_dataset = self.dataset(\n",
      "  File \"/home/cellverse/Desktop/cv/ShanghaiTech-CS172/assignments/assignment2/Geometry_to_rescue/datasets/kitti_dataset.py\", line 62, in __init__\n",
      "    super(KITTIRAWDataset, self).__init__(*args, **kwargs)\n",
      "  File \"/home/cellverse/Desktop/cv/ShanghaiTech-CS172/assignments/assignment2/Geometry_to_rescue/datasets/kitti_dataset.py\", line 22, in __init__\n",
      "    super(KITTIDataset, self).__init__(*args, **kwargs)\n",
      "  File \"/home/cellverse/Desktop/cv/ShanghaiTech-CS172/assignments/assignment2/Geometry_to_rescue/datasets/mono_dataset.py\", line 92, in __init__\n",
      "    self.load_depth = self.check_depth()\n",
      "  File \"/home/cellverse/Desktop/cv/ShanghaiTech-CS172/assignments/assignment2/Geometry_to_rescue/datasets/kitti_dataset.py\", line 40, in check_depth\n",
      "    frame_index = int(line[1])\n",
      "ValueError: invalid literal for int() with base 10: 's'\n"
     ]
    }
   ],
   "source": [
    "!python ./Geometry_to_rescue/train.py --pose_model_type posecnn --use_stereo --weights_init scratch --num_epochs 50 --split my_split_stereo --model_name Geometry_to_rescue --data_path /home/cellverse/Desktop/cv/2011_10_03_drive_0034_sync/ --png --log_dir /home/cellverse/Desktop/cv/log_dir"
   ]
  },
  {
   "cell_type": "markdown",
   "metadata": {},
   "source": [
    "# predict"
   ]
  },
  {
   "cell_type": "code",
   "execution_count": null,
   "metadata": {},
   "outputs": [],
   "source": [
    "!python ./geometry_to_rescue/test_simple.py --image_path assets/final_image.png --model_name mono+stereo_640x192 --model_path /home/cellverse/Desktop/cv/log_dir/Geometry_to_rescue/models/weights_0"
   ]
  }
 ],
 "metadata": {
  "kernelspec": {
   "display_name": "cs172",
   "language": "python",
   "name": "python3"
  },
  "language_info": {
   "codemirror_mode": {
    "name": "ipython",
    "version": 3
   },
   "file_extension": ".py",
   "mimetype": "text/x-python",
   "name": "python",
   "nbconvert_exporter": "python",
   "pygments_lexer": "ipython3",
   "version": "3.10.13"
  },
  "orig_nbformat": 4
 },
 "nbformat": 4,
 "nbformat_minor": 2
}
