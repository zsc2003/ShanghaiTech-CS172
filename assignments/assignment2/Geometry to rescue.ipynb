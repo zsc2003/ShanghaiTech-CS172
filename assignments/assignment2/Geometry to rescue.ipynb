{
 "cells": [
  {
   "attachments": {},
   "cell_type": "markdown",
   "metadata": {},
   "source": [
    "# load data "
   ]
  },
  {
   "cell_type": "code",
   "execution_count": 1,
   "metadata": {},
   "outputs": [],
   "source": [
    "data_path = '/home/cellverse/Desktop/cv/2011_10_03_drive_0034_sync/'"
   ]
  },
  {
   "attachments": {},
   "cell_type": "markdown",
   "metadata": {},
   "source": [
    "# training from scratch"
   ]
  },
  {
   "cell_type": "code",
   "execution_count": 1,
   "metadata": {
    "vscode": {
     "languageId": "shellscript"
    }
   },
   "outputs": [
    {
     "name": "stdout",
     "output_type": "stream",
     "text": [
      "/home/cellverse/tools/miniconda3/envs/cs172/lib/python3.10/site-packages/torchvision/models/_utils.py:135: UserWarning: Using 'weights' as positional parameter(s) is deprecated since 0.13 and may be removed in the future. Please use keyword parameter(s) instead.\n",
      "  warnings.warn(\n",
      "/home/cellverse/tools/miniconda3/envs/cs172/lib/python3.10/site-packages/torchvision/models/_utils.py:223: UserWarning: Arguments other than a weight enum or `None` for 'weights' are deprecated since 0.13 and may be removed in the future. The current behavior is equivalent to passing `weights=ResNet18_Weights.IMAGENET1K_V1`. You can also use `weights=ResNet18_Weights.DEFAULT` to get the most up-to-date weights.\n",
      "  warnings.warn(msg)\n",
      "Training model named:\n",
      "   mono\n",
      "Models and tensorboard events files are saved to:\n",
      "   /home/cellverse/Desktop/cv/log_dir\n",
      "Training is using:\n",
      "   cuda\n",
      "=======================================================\n",
      "size of training data = 8413\n",
      "=======================================================\n",
      "Using split:\n",
      "   my_split\n",
      "There are 8413 training items and 909 validation items\n",
      "\n",
      "  0%|                                                    | 0/50 [00:00<?, ?it/s]/home/cellverse/tools/miniconda3/envs/cs172/lib/python3.10/site-packages/torch/optim/lr_scheduler.py:136: UserWarning: Detected call of `lr_scheduler.step()` before `optimizer.step()`. In PyTorch 1.1.0 and later, you should call them in the opposite order: `optimizer.step()` before `lr_scheduler.step()`.  Failure to do this will result in PyTorch skipping the first value of the learning rate schedule. See more details at https://pytorch.org/docs/stable/optim.html#how-to-adjust-learning-rate\n",
      "  warnings.warn(\"Detected call of `lr_scheduler.step()` before `optimizer.step()`. \"\n",
      "/home/cellverse/tools/miniconda3/envs/cs172/lib/python3.10/site-packages/torch/nn/functional.py:4296: UserWarning: Default grid_sample and affine_grid behavior has changed to align_corners=False since 1.3.0. Please specify align_corners=True if the old behavior is desired. See the documentation of grid_sample for details.\n",
      "  warnings.warn(\n",
      "epoch   0 | batch      0 | examples/s:   3.6 | loss: 0.16522 | time elapsed: 00h00m17s | time left: 00h00m00s\n",
      "epoch   0 | batch    250 | examples/s:  55.7 | loss: 0.13673 | time elapsed: 00h02m20s | time left: 05h25m44s\n",
      "epoch   0 | batch    500 | examples/s:  94.8 | loss: 0.12647 | time elapsed: 00h04m25s | time left: 05h06m13s\n",
      "  2%|▊                                        | 1/50 [06:03<4:56:28, 363.03s/it]epoch   1 | batch      0 | examples/s:  73.8 | loss: 0.11961 | time elapsed: 00h06m09s | time left: 05h02m03s\n",
      "epoch   1 | batch    250 | examples/s:  96.6 | loss: 0.13183 | time elapsed: 00h08m15s | time left: 04h56m13s\n",
      "epoch   1 | batch    500 | examples/s:  27.9 | loss: 0.14780 | time elapsed: 00h10m20s | time left: 04h51m25s\n",
      "  4%|█▋                                       | 2/50 [12:00<4:47:49, 359.78s/it]epoch   2 | batch      0 | examples/s:  35.0 | loss: 0.12714 | time elapsed: 00h12m08s | time left: 04h51m34s\n",
      "epoch   2 | batch    250 | examples/s:  83.5 | loss: 0.12403 | time elapsed: 00h14m14s | time left: 04h47m59s\n",
      "epoch   2 | batch    500 | examples/s:  99.4 | loss: 0.11574 | time elapsed: 00h16m21s | time left: 04h44m56s\n",
      "epoch   2 | batch    598 | examples/s:  59.0 | loss: 0.11336 | time elapsed: 00h17m11s | time left: 04h43m58s\n",
      " 10%|████                                     | 5/50 [29:46<4:26:50, 355.78s/it]"
     ]
    }
   ],
   "source": [
    "!python train.py --num_epochs 50 --split my_split --model_name mono --data_path /home/cellverse/Desktop/cv/2011_10_03_drive_0034_sync/ --png --log_dir /home/cellverse/Desktop/cv/log_dir"
   ]
  },
  {
   "attachments": {},
   "cell_type": "markdown",
   "metadata": {},
   "source": [
    "# finetune"
   ]
  },
  {
   "cell_type": "code",
   "execution_count": null,
   "metadata": {
    "vscode": {
     "languageId": "shellscript"
    }
   },
   "outputs": [],
   "source": [
    "python train.py --num_epochs 20000 --split my_split --model_name finetuned_mono --data_path /home/cellverse/Desktop/cv/2011_10_03_drive_0034_sync/ --png --log_dir /home/cellverse/Desktop/cv/log_dir --load_weights_folder /home/cellverse/Desktop/cv/log_dir/mono_1024x320"
   ]
  },
  {
   "attachments": {},
   "cell_type": "markdown",
   "metadata": {},
   "source": [
    "# predict from scratch"
   ]
  },
  {
   "cell_type": "code",
   "execution_count": null,
   "metadata": {
    "vscode": {
     "languageId": "shellscript"
    }
   },
   "outputs": [],
   "source": [
    "!python test_simple.py --image_path assets/final_image.png --model_name mono+stereo_640x192 --model_path /home/cellverse/Desktop/cv/log_dir/mono/models/weights_0"
   ]
  },
  {
   "cell_type": "markdown",
   "metadata": {},
   "source": [
    "# predict from finetuned"
   ]
  },
  {
   "cell_type": "code",
   "execution_count": 1,
   "metadata": {
    "vscode": {
     "languageId": "shellscript"
    }
   },
   "outputs": [
    {
     "name": "stdout",
     "output_type": "stream",
     "text": [
      "-> Loading model from  /home/cellverse/Desktop/cv/log_dir/mono/models/weights_0\n",
      "   Loading pretrained encoder\n",
      "/home/cellverse/tools/miniconda3/envs/cs172/lib/python3.10/site-packages/torchvision/models/_utils.py:135: UserWarning: Using 'weights' as positional parameter(s) is deprecated since 0.13 and may be removed in the future. Please use keyword parameter(s) instead.\n",
      "  warnings.warn(\n",
      "/home/cellverse/tools/miniconda3/envs/cs172/lib/python3.10/site-packages/torchvision/models/_utils.py:223: UserWarning: Arguments other than a weight enum or `None` for 'weights' are deprecated since 0.13 and may be removed in the future. The current behavior is equivalent to passing `weights=None`.\n",
      "  warnings.warn(msg)\n",
      "   Loading pretrained decoder\n",
      "-> Predicting on 1 test images\n",
      "   Processed 1 of 1 images - saved predictions to:\n",
      "   - assets/final_image_disp.jpeg\n",
      "   - assets/final_image_disp.npy\n",
      "-> Done!\n"
     ]
    }
   ],
   "source": [
    "!python test_simple.py --image_path assets/final_image.png --model_name mono+stereo_640x192 --model_path /home/cellverse/Desktop/cv/log_dir/mono/models/weights_0"
   ]
  }
 ],
 "metadata": {
  "kernelspec": {
   "display_name": "cs172",
   "language": "python",
   "name": "python3"
  },
  "language_info": {
   "codemirror_mode": {
    "name": "ipython",
    "version": 3
   },
   "file_extension": ".py",
   "mimetype": "text/x-python",
   "name": "python",
   "nbconvert_exporter": "python",
   "pygments_lexer": "ipython3",
   "version": "3.10.13"
  },
  "orig_nbformat": 4
 },
 "nbformat": 4,
 "nbformat_minor": 2
}
