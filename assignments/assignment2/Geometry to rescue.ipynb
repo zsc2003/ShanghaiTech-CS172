{
 "cells": [
  {
   "attachments": {},
   "cell_type": "markdown",
   "metadata": {},
   "source": [
    "# load data "
   ]
  },
  {
   "cell_type": "code",
   "execution_count": 1,
   "metadata": {},
   "outputs": [],
   "source": [
    "data_path = '/4Tdisk/000_2023fall/2011_10_03_drive_0034_sync/2011_10_03/2011_10_03_drive_0034_sync'\n"
   ]
  },
  {
   "attachments": {},
   "cell_type": "markdown",
   "metadata": {},
   "source": [
    "# training"
   ]
  },
  {
   "cell_type": "code",
   "execution_count": null,
   "metadata": {
    "vscode": {
     "languageId": "shellscript"
    }
   },
   "outputs": [],
   "source": [
    "# my_computer\n",
    "python train.py --num_epochs 20 --split my_split --model_name mono --data_path /4Tdisk/000_2023fall --png --log_dir /4Tdisk/000_2023fall/log_dir\n",
    "\n"
   ]
  },
  {
   "attachments": {},
   "cell_type": "markdown",
   "metadata": {},
   "source": [
    "# finetune"
   ]
  },
  {
   "cell_type": "code",
   "execution_count": null,
   "metadata": {
    "vscode": {
     "languageId": "shellscript"
    }
   },
   "outputs": [],
   "source": [
    "# my_computer\n",
    "python train.py --num_epochs 20 --split my_split --model_name finetuned_mono --data_path /4Tdisk/000_2023fall --png --log_dir /4Tdisk/000_2023fall/log_dir --load_weights_folder /4Tdisk/000_2023fall/log_dir/mono_1024x320\n",
    "\n",
    "\n"
   ]
  },
  {
   "attachments": {},
   "cell_type": "markdown",
   "metadata": {},
   "source": [
    "# predict"
   ]
  },
  {
   "cell_type": "code",
   "execution_count": null,
   "metadata": {
    "vscode": {
     "languageId": "shellscript"
    }
   },
   "outputs": [],
   "source": [
    "# my_computer\n",
    "python test_simple.py --image_path assets/test_image.jpg --model_name mono+stereo_640x192 --model_path /4Tdisk/000_2023fall/log_dir/finetuned_mono/models/weights_0\n",
    "\n",
    "\n"
   ]
  }
 ],
 "metadata": {
  "kernelspec": {
   "display_name": "cs172",
   "language": "python",
   "name": "python3"
  },
  "language_info": {
   "codemirror_mode": {
    "name": "ipython",
    "version": 3
   },
   "file_extension": ".py",
   "mimetype": "text/x-python",
   "name": "python",
   "nbconvert_exporter": "python",
   "pygments_lexer": "ipython3",
   "version": "3.10.12"
  },
  "orig_nbformat": 4
 },
 "nbformat": 4,
 "nbformat_minor": 2
}
