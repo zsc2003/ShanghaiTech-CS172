{
 "cells": [
  {
   "attachments": {},
   "cell_type": "markdown",
   "metadata": {},
   "source": [
    "# load data "
   ]
  },
  {
   "cell_type": "code",
   "execution_count": 1,
   "metadata": {},
   "outputs": [],
   "source": [
    "data_path = '/home/cellverse/Desktop/cv/2011_10_03_drive_0034_sync/'"
   ]
  },
  {
   "attachments": {},
   "cell_type": "markdown",
   "metadata": {},
   "source": [
    "# finetune with new loss function"
   ]
  },
  {
   "cell_type": "code",
   "execution_count": 7,
   "metadata": {
    "vscode": {
     "languageId": "shellscript"
    }
   },
   "outputs": [
    {
     "name": "stdout",
     "output_type": "stream",
     "text": [
      "use_pose_net =  False\n",
      "/home/cellverse/tools/miniconda3/envs/cs172/lib/python3.10/site-packages/torchvision/models/_utils.py:135: UserWarning: Using 'weights' as positional parameter(s) is deprecated since 0.13 and may be removed in the future. Please use keyword parameter(s) instead.\n",
      "  warnings.warn(\n",
      "/home/cellverse/tools/miniconda3/envs/cs172/lib/python3.10/site-packages/torchvision/models/_utils.py:223: UserWarning: Arguments other than a weight enum or `None` for 'weights' are deprecated since 0.13 and may be removed in the future. The current behavior is equivalent to passing `weights=ResNet18_Weights.IMAGENET1K_V1`. You can also use `weights=ResNet18_Weights.DEFAULT` to get the most up-to-date weights.\n",
      "  warnings.warn(msg)\n",
      "loading model from folder /home/cellverse/Desktop/cv/log_dir/mono_1024x320\n",
      "Loading encoder weights...\n",
      "Loading depth weights...\n",
      "Loading pose_encoder weights...\n",
      "Traceback (most recent call last):\n",
      "  File \"/home/cellverse/Desktop/cv/ShanghaiTech-CS172/assignments/assignment2/./improvement/train.py\", line 17, in <module>\n",
      "    trainer = Trainer(opts)\n",
      "  File \"/home/cellverse/Desktop/cv/ShanghaiTech-CS172/assignments/assignment2/improvement/trainer.py\", line 108, in __init__\n",
      "    self.load_model()\n",
      "  File \"/home/cellverse/Desktop/cv/ShanghaiTech-CS172/assignments/assignment2/improvement/trainer.py\", line 663, in load_model\n",
      "    model_dict = self.models[n].state_dict()\n",
      "KeyError: 'pose_encoder'\n"
     ]
    }
   ],
   "source": [
    "!python ./improvement/train.py --use_stereo --num_epochs 2 --split my_split --model_name back_projection --data_path /home/cellverse/Desktop/cv/2011_10_03_drive_0034_sync/ --png --log_dir /home/cellverse/Desktop/cv/log_dir --load_weights_folder /home/cellverse/Desktop/cv/log_dir/mono_1024x320 --frame_ids 0"
   ]
  },
  {
   "attachments": {},
   "cell_type": "markdown",
   "metadata": {},
   "source": [
    "# predict"
   ]
  },
  {
   "cell_type": "code",
   "execution_count": null,
   "metadata": {
    "vscode": {
     "languageId": "shellscript"
    }
   },
   "outputs": [],
   "source": [
    "!python ./improvement/test_simple.py --image_path assets/occlusion.jpg --model_name mono+stereo_640x192 --model_path /home/cellverse/Desktop/cv/log_dir/back_projection/models/weights_0"
   ]
  }
 ],
 "metadata": {
  "kernelspec": {
   "display_name": "cs172",
   "language": "python",
   "name": "python3"
  },
  "language_info": {
   "codemirror_mode": {
    "name": "ipython",
    "version": 3
   },
   "file_extension": ".py",
   "mimetype": "text/x-python",
   "name": "python",
   "nbconvert_exporter": "python",
   "pygments_lexer": "ipython3",
   "version": "3.10.13"
  },
  "orig_nbformat": 4
 },
 "nbformat": 4,
 "nbformat_minor": 2
}
