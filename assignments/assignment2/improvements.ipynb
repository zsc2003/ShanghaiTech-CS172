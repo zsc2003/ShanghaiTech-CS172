{
 "cells": [
  {
   "attachments": {},
   "cell_type": "markdown",
   "metadata": {},
   "source": [
    "# load data "
   ]
  },
  {
   "cell_type": "code",
   "execution_count": 1,
   "metadata": {},
   "outputs": [],
   "source": [
    "data_path = '/home/cellverse/Desktop/cv/2011_10_03_drive_0034_sync/'"
   ]
  },
  {
   "attachments": {},
   "cell_type": "markdown",
   "metadata": {},
   "source": [
    "# finetune with new loss function"
   ]
  },
  {
   "cell_type": "code",
   "execution_count": 3,
   "metadata": {
    "vscode": {
     "languageId": "shellscript"
    }
   },
   "outputs": [
    {
     "name": "stdout",
     "output_type": "stream",
     "text": [
      "use_pose_net =  True\n",
      "/home/cellverse/tools/miniconda3/envs/cs172/lib/python3.10/site-packages/torchvision/models/_utils.py:135: UserWarning: Using 'weights' as positional parameter(s) is deprecated since 0.13 and may be removed in the future. Please use keyword parameter(s) instead.\n",
      "  warnings.warn(\n",
      "/home/cellverse/tools/miniconda3/envs/cs172/lib/python3.10/site-packages/torchvision/models/_utils.py:223: UserWarning: Arguments other than a weight enum or `None` for 'weights' are deprecated since 0.13 and may be removed in the future. The current behavior is equivalent to passing `weights=ResNet18_Weights.IMAGENET1K_V1`. You can also use `weights=ResNet18_Weights.DEFAULT` to get the most up-to-date weights.\n",
      "  warnings.warn(msg)\n",
      "Training model named:\n",
      "   back_projection\n",
      "Models and tensorboard events files are saved to:\n",
      "   /home/cellverse/Desktop/cv/log_dir\n",
      "Training is using:\n",
      "   cuda\n",
      "=======================================================\n",
      "size of training data = 8413\n",
      "=======================================================\n",
      "Using split:\n",
      "   my_split\n",
      "There are 8413 training items and 909 validation items\n",
      "\n",
      "  0%|                                                    | 0/20 [00:00<?, ?it/s]/home/cellverse/tools/miniconda3/envs/cs172/lib/python3.10/site-packages/torch/optim/lr_scheduler.py:136: UserWarning: Detected call of `lr_scheduler.step()` before `optimizer.step()`. In PyTorch 1.1.0 and later, you should call them in the opposite order: `optimizer.step()` before `lr_scheduler.step()`.  Failure to do this will result in PyTorch skipping the first value of the learning rate schedule. See more details at https://pytorch.org/docs/stable/optim.html#how-to-adjust-learning-rate\n",
      "  warnings.warn(\"Detected call of `lr_scheduler.step()` before `optimizer.step()`. \"\n",
      "/home/cellverse/tools/miniconda3/envs/cs172/lib/python3.10/site-packages/torch/nn/functional.py:4296: UserWarning: Default grid_sample and affine_grid behavior has changed to align_corners=False since 1.3.0. Please specify align_corners=True if the old behavior is desired. See the documentation of grid_sample for details.\n",
      "  warnings.warn(\n",
      "epoch   0 | batch      0 | examples/s:   1.7 | loss: 0.17578 | time elapsed: 00h00m15s | time left: 00h00m00s\n",
      "epoch   0 | batch    250 | examples/s:  19.8 | loss: 0.13561 | time elapsed: 00h03m46s | time left: 03h28m03s\n",
      "epoch   0 | batch    500 | examples/s:  16.3 | loss: 0.14592 | time elapsed: 00h07m13s | time left: 03h15m16s\n",
      "  5%|██                                       | 1/20 [09:44<3:05:12, 584.89s/it]epoch   1 | batch      0 | examples/s:   4.4 | loss: 0.14358 | time elapsed: 00h09m54s | time left: 03h08m20s\n",
      "epoch   1 | batch    250 | examples/s:  11.9 | loss: 0.12849 | time elapsed: 00h13m21s | time left: 03h03m39s\n",
      "epoch   1 | batch    500 | examples/s:  18.9 | loss: 0.12170 | time elapsed: 00h16m30s | time left: 02h56m14s\n",
      " 10%|████                                     | 2/20 [18:48<2:48:15, 560.88s/it]epoch   2 | batch      0 | examples/s:   5.3 | loss: 0.12042 | time elapsed: 00h18m56s | time left: 02h50m25s\n",
      "epoch   2 | batch    250 | examples/s:  10.3 | loss: 0.11082 | time elapsed: 00h22m11s | time left: 02h46m10s\n",
      "epoch   2 | batch    500 | examples/s:  15.8 | loss: 0.11647 | time elapsed: 00h25m20s | time left: 02h41m24s\n",
      "epoch   2 | batch    598 | examples/s:  10.7 | loss: 0.11797 | time elapsed: 00h26m36s | time left: 02h39m54s\n",
      " 25%|██████████▎                              | 5/20 [45:02<2:12:53, 531.55s/it]epoch   5 | batch    495 | examples/s:  16.7 | loss: 0.11710 | time elapsed: 00h51m26s | time left: 02h08m51s\n",
      " 40%|███████████████▌                       | 8/20 [1:11:41<1:47:03, 535.29s/it]epoch   8 | batch    392 | examples/s:  34.6 | loss: 0.08577 | time elapsed: 01h17m02s | time left: 01h42m58s\n",
      " 55%|████████████████████▉                 | 11/20 [1:40:55<1:25:59, 573.29s/it]epoch  11 | batch    289 | examples/s:  13.0 | loss: 0.09610 | time elapsed: 01h45m20s | time left: 01h19m15s\n"
     ]
    }
   ],
   "source": [
    "!python ./improvement/train.py --num_epochs 20 --split my_split --model_name back_projection --data_path /home/cellverse/Desktop/cv/2011_10_03_drive_0034_sync/ --png --log_dir /home/cellverse/Desktop/cv/log_dir"
   ]
  },
  {
   "attachments": {},
   "cell_type": "markdown",
   "metadata": {},
   "source": [
    "# predict"
   ]
  },
  {
   "cell_type": "code",
   "execution_count": null,
   "metadata": {
    "vscode": {
     "languageId": "shellscript"
    }
   },
   "outputs": [],
   "source": [
    "!python ./improvement/test_simple.py --image_path assets/occlusion.jpg --model_name mono+stereo_640x192 --model_path /home/cellverse/Desktop/cv/log_dir/back_projection/models/weights_0"
   ]
  }
 ],
 "metadata": {
  "kernelspec": {
   "display_name": "cs172",
   "language": "python",
   "name": "python3"
  },
  "language_info": {
   "codemirror_mode": {
    "name": "ipython",
    "version": 3
   },
   "file_extension": ".py",
   "mimetype": "text/x-python",
   "name": "python",
   "nbconvert_exporter": "python",
   "pygments_lexer": "ipython3",
   "version": "3.10.13"
  },
  "orig_nbformat": 4
 },
 "nbformat": 4,
 "nbformat_minor": 2
}
